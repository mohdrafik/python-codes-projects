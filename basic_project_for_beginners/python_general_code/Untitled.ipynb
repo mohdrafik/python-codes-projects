{
 "cells": [
  {
   "cell_type": "code",
   "execution_count": 1,
   "id": "55b1d2af",
   "metadata": {},
   "outputs": [],
   "source": [
    "# can you see my screen\n",
    "# even number print 27-126\n",
    "    "
   ]
  },
  {
   "cell_type": "code",
   "execution_count": 4,
   "id": "6f857f72",
   "metadata": {},
   "outputs": [
    {
     "name": "stdout",
     "output_type": "stream",
     "text": [
      "[27, 28, 29, 30, 31, 32, 33, 34, 35, 36, 37, 38, 39, 40, 41, 42, 43, 44, 45, 46, 47, 48, 49, 50, 51, 52, 53, 54, 55, 56, 57, 58, 59, 60, 61, 62, 63, 64, 65, 66, 67, 68, 69, 70, 71, 72, 73, 74, 75, 76, 77, 78, 79, 80, 81, 82, 83, 84, 85, 86, 87, 88, 89, 90, 91, 92, 93, 94, 95, 96, 97, 98, 99, 100, 101, 102, 103, 104, 105, 106, 107, 108, 109, 110, 111, 112, 113, 114, 115, 116, 117, 118, 119, 120, 121, 122, 123, 124, 125, 126]"
     ]
    }
   ],
   "source": [
    "num = list(range(27,127,1))\n",
    "print(num,end='')"
   ]
  },
  {
   "cell_type": "code",
   "execution_count": 5,
   "id": "cf76f1d9",
   "metadata": {},
   "outputs": [
    {
     "name": "stdout",
     "output_type": "stream",
     "text": [
      "28 30 32 34 36 38 40 42 44 46 48 50 52 54 56 58 60 62 64 66 68 70 72 74 76 78 80 82 84 86 88 90 92 94 96 98 100 102 104 106 108 110 112 114 116 118 120 122 124 126 "
     ]
    }
   ],
   "source": [
    "for num in num:\n",
    "    if num%2 == 0:\n",
    "        print(num,end=' ')"
   ]
  },
  {
   "cell_type": "code",
   "execution_count": 42,
   "id": "24223e46",
   "metadata": {},
   "outputs": [],
   "source": [
    "import random\n",
    "import numpy as np\n",
    "raw_data = np.random.randint(2,10,size=(1,7))"
   ]
  },
  {
   "cell_type": "code",
   "execution_count": 43,
   "id": "f8add68b",
   "metadata": {},
   "outputs": [
    {
     "data": {
      "text/plain": [
       "array([[9, 4, 2, 6, 6, 4, 7]])"
      ]
     },
     "execution_count": 43,
     "metadata": {},
     "output_type": "execute_result"
    }
   ],
   "source": [
    "raw_data"
   ]
  },
  {
   "cell_type": "code",
   "execution_count": 44,
   "id": "e237fc46",
   "metadata": {},
   "outputs": [
    {
     "data": {
      "text/plain": [
       "(1, 7)"
      ]
     },
     "execution_count": 44,
     "metadata": {},
     "output_type": "execute_result"
    }
   ],
   "source": [
    "raw_data.shape"
   ]
  },
  {
   "cell_type": "code",
   "execution_count": 45,
   "id": "df29f5bc",
   "metadata": {},
   "outputs": [],
   "source": [
    "raw_data.sort()"
   ]
  },
  {
   "cell_type": "code",
   "execution_count": 46,
   "id": "321b6193",
   "metadata": {},
   "outputs": [
    {
     "name": "stdout",
     "output_type": "stream",
     "text": [
      "[[2 4 4 6 6 7 9]]\n"
     ]
    }
   ],
   "source": [
    "print(raw_data)"
   ]
  },
  {
   "cell_type": "code",
   "execution_count": 47,
   "id": "38231b71",
   "metadata": {},
   "outputs": [
    {
     "data": {
      "text/plain": [
       "array([[2, 4, 4, 6, 6, 7, 9]])"
      ]
     },
     "execution_count": 47,
     "metadata": {},
     "output_type": "execute_result"
    }
   ],
   "source": [
    "raw_data"
   ]
  },
  {
   "cell_type": "code",
   "execution_count": 54,
   "id": "307bb340",
   "metadata": {},
   "outputs": [
    {
     "name": "stdout",
     "output_type": "stream",
     "text": [
      "Population Variance: 13.6\n",
      "Population Standard Deviation: 3.687817782917155\n",
      "Sample Variance: 17.0\n",
      "Sample Standard Deviation: 4.123105625617661\n"
     ]
    }
   ],
   "source": [
    "import numpy as np\n",
    "# Generate some example data\n",
    "data = np.array([10, 12, 15, 18, 20])\n",
    "# Calculate population variance\n",
    "population_variance = np.var(data)\n",
    "print(f\"Population Variance: {population_variance}\")\n",
    "\n",
    "# Calculate population standard deviation\n",
    "population_std_dev = np.std(data)\n",
    "print(f\"Population Standard Deviation: {population_std_dev}\")\n",
    "\n",
    "# Calculate sample variance (ddof=1 for sample variance)\n",
    "sample_variance = np.var(data, ddof=1)\n",
    "# ddof parameter in the np.var function stands for \"Delta Degrees of Freedom.\"\n",
    "# It represents the divisor used in the calculation of the variance and adjusts\n",
    "# it for the sample size. When calculating the variance for a sample, \n",
    "# you typically divide by n - ddof, where n is the number of data points. Setting ddof to 1 \n",
    "\n",
    "print(f\"Sample Variance: {sample_variance}\")\n",
    "\n",
    "# Calculate sample standard deviation\n",
    "sample_std_dev = np.std(data, ddof=1)\n",
    "print(f\"Sample Standard Deviation: {sample_std_dev}\")\n"
   ]
  },
  {
   "cell_type": "code",
   "execution_count": 56,
   "id": "352d5853",
   "metadata": {},
   "outputs": [],
   "source": [
    "X=10\n",
    "X=X+10\n",
    "X=X-5"
   ]
  },
  {
   "cell_type": "code",
   "execution_count": 57,
   "id": "f569f9e3",
   "metadata": {},
   "outputs": [
    {
     "data": {
      "text/plain": [
       "15"
      ]
     },
     "execution_count": 57,
     "metadata": {},
     "output_type": "execute_result"
    }
   ],
   "source": [
    "X"
   ]
  },
  {
   "cell_type": "code",
   "execution_count": 58,
   "id": "794a6b2c",
   "metadata": {},
   "outputs": [
    {
     "name": "stdout",
     "output_type": "stream",
     "text": [
      "20 60\n"
     ]
    }
   ],
   "source": [
    "x, y = 20, 60  \n",
    "y, x, y-x, y-10, x+10  \n",
    "print (x, y)"
   ]
  },
  {
   "cell_type": "code",
   "execution_count": 13,
   "id": "d5e046ef",
   "metadata": {},
   "outputs": [
    {
     "name": "stdout",
     "output_type": "stream",
     "text": [
      "* * \n",
      "* * \n",
      "* * \n",
      "* \n",
      "* * \n",
      "* * \n",
      "* * \n"
     ]
    }
   ],
   "source": [
    "n= 7\n",
    "for i in range(n):\n",
    "    for j in range(n):\n",
    "#         print(\"*\",end=' ')\n",
    "        if j == i or i+j ==n-1:\n",
    "            print(\"*\",end=' ')\n",
    "\n",
    "#             break;\n",
    "    print()        \n",
    "    "
   ]
  },
  {
   "cell_type": "code",
   "execution_count": null,
   "id": "5ec9ee5c",
   "metadata": {},
   "outputs": [],
   "source": []
  }
 ],
 "metadata": {
  "kernelspec": {
   "display_name": "Python 3 (ipykernel)",
   "language": "python",
   "name": "python3"
  },
  "language_info": {
   "codemirror_mode": {
    "name": "ipython",
    "version": 3
   },
   "file_extension": ".py",
   "mimetype": "text/x-python",
   "name": "python",
   "nbconvert_exporter": "python",
   "pygments_lexer": "ipython3",
   "version": "3.10.7"
  }
 },
 "nbformat": 4,
 "nbformat_minor": 5
}
